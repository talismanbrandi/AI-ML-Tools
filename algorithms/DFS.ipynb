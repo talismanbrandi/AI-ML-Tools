{
 "cells": [
  {
   "cell_type": "code",
   "execution_count": 16,
   "metadata": {
    "collapsed": true,
    "pycharm": {
     "is_executing": false
    }
   },
   "outputs": [],
   "source": [
    "graph = {'A': {'B', 'C'},\n",
    "         'B': {'A', 'D'},\n",
    "         'C': {'A', 'E', 'F'},\n",
    "         'D': {'B', 'G'},\n",
    "         'E': {'C', 'G'},\n",
    "         'F': {'C'},\n",
    "         'G': {'D', 'E', 'H'},\n",
    "         'H': {'G'}}"
   ]
  },
  {
   "cell_type": "code",
   "execution_count": 116,
   "outputs": [
    {
     "name": "stdout",
     "text": [
      "A\nC\nF\nE\nG\nH\nD\nB\nB\nD\nG\nE\nC\nF\nH\nC\n"
     ],
     "output_type": "stream"
    },
    {
     "data": {
      "text/plain": "{'A', 'B', 'C', 'D', 'E', 'F', 'G', 'H'}"
     },
     "metadata": {},
     "output_type": "execute_result",
     "execution_count": 116
    }
   ],
   "source": [
    "def dfs_iterative(graph, start):\n",
    "    visited, stack = set(), [start]\n",
    "    while stack:\n",
    "        vertex = stack.pop()\n",
    "        if vertex not in visited:\n",
    "            visited.add(vertex)\n",
    "            print(vertex)\n",
    "            stack.extend(graph[vertex] - visited)\n",
    "            # print(stack)\n",
    "    return visited\n",
    "\n",
    "def dfs_recursive(graph, start, visited=None):\n",
    "    if visited is None:\n",
    "        visited = set()\n",
    "    visited.add(start)\n",
    "    for next_node in graph[start] - visited:\n",
    "        dfs_recursive(graph, next_node, visited)   \n",
    "    return visited\n",
    "\n",
    "dfs_iterative(graph, 'A')\n",
    "dfs_recursive(graph, 'A')"
   ],
   "metadata": {
    "collapsed": false,
    "pycharm": {
     "name": "#%%\n",
     "is_executing": false
    }
   }
  },
  {
   "cell_type": "code",
   "execution_count": 102,
   "outputs": [
    {
     "name": "stdout",
     "text": [
      "['B', 'D', 'G', 'E']\n"
     ],
     "output_type": "stream"
    },
    {
     "data": {
      "text/plain": "['B', 'A', 'C', 'E']"
     },
     "metadata": {},
     "output_type": "execute_result",
     "execution_count": 102
    }
   ],
   "source": [
    "def dfs_iterative_path(graph, start, goal):\n",
    "    stack = [(start, [start])]\n",
    "    while stack:\n",
    "        (vertex, path) = stack.pop()\n",
    "        for next_node in graph[start] - set(path):\n",
    "            if next_node == goal:\n",
    "                print(path + [next_node])\n",
    "                return path + [next_node]\n",
    "            else:\n",
    "                stack.append((next_node, path + [next_node]))    \n",
    "                start = next_node\n",
    "    print(stack)                \n",
    "    \n",
    "def dfs_recursive_path(graph, start, goal, path=None):\n",
    "    if path is None:\n",
    "        path = [start]\n",
    "    if start == goal:\n",
    "        return path\n",
    "    for next_node in graph[start] - set(path):\n",
    "        return dfs_recursive_path(graph, next_node, goal, path + [next_node])\n",
    "                \n",
    "dfs_iterative_path(graph, 'B', 'E')    \n",
    "dfs_recursive_path(graph, 'B', 'E')"
   ],
   "metadata": {
    "collapsed": false,
    "pycharm": {
     "name": "#%%\n",
     "is_executing": false
    }
   }
  },
  {
   "cell_type": "code",
   "execution_count": 118,
   "outputs": [
    {
     "name": "stdout",
     "text": [
      "A\nB\nC\nD\nE\nF\nG\nH\n \nA\nC\nF\nE\nG\nH\nD\nB\n \nB\nD\nG\nE\nC\nF\nH\nC\n"
     ],
     "output_type": "stream"
    },
    {
     "data": {
      "text/plain": "{'A', 'B', 'C', 'D', 'E', 'F', 'G', 'H'}"
     },
     "metadata": {},
     "output_type": "execute_result",
     "execution_count": 118
    }
   ],
   "source": [
    "def bfs(graph, start):\n",
    "    visited, queue = set(), [start]\n",
    "    while queue:\n",
    "        vertex = queue.pop(0)\n",
    "        if vertex not in visited:\n",
    "            print(vertex)\n",
    "            visited.add(vertex)\n",
    "            queue.extend(graph[vertex] - visited)\n",
    "    return visited\n",
    "\n",
    "def bfs_paths(graph, start, goal):\n",
    "    queue = [(start, [start])]\n",
    "    while queue:\n",
    "        (vertex, path) = queue.pop(0)\n",
    "        for next_node in graph[vertex] - set(path):\n",
    "            if next_node == goal:\n",
    "                return path + [next_node]\n",
    "            else:\n",
    "                queue.append((next_node, path + [next_node]))\n",
    "    return queue\n",
    "\n",
    "bfs(graph, 'A')\n",
    "print(\" \")\n",
    "dfs_iterative(graph, 'A')\n",
    "print(\" \")\n",
    "dfs_recursive(graph, 'A')\n",
    "# bfs_paths(graph, 'B', 'E')"
   ],
   "metadata": {
    "collapsed": false,
    "pycharm": {
     "name": "#%%\n",
     "is_executing": false
    }
   }
  }
 ],
 "metadata": {
  "kernelspec": {
   "display_name": "Python 3",
   "language": "python",
   "name": "python3"
  },
  "language_info": {
   "codemirror_mode": {
    "name": "ipython",
    "version": 2
   },
   "file_extension": ".py",
   "mimetype": "text/x-python",
   "name": "python",
   "nbconvert_exporter": "python",
   "pygments_lexer": "ipython2",
   "version": "2.7.6"
  },
  "pycharm": {
   "stem_cell": {
    "cell_type": "raw",
    "source": [],
    "metadata": {
     "collapsed": false
    }
   }
  }
 },
 "nbformat": 4,
 "nbformat_minor": 0
}