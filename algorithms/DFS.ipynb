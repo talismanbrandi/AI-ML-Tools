{
 "cells": [
  {
   "cell_type": "code",
   "execution_count": 32,
   "metadata": {
    "pycharm": {
     "is_executing": false
    }
   },
   "outputs": [
    {
     "name": "stderr",
     "output_type": "stream",
     "text": [
      "/Library/Frameworks/Python.framework/Versions/3.6/lib/python3.6/site-packages/networkx/drawing/nx_pylab.py:611: MatplotlibDeprecationWarning: isinstance(..., numbers.Number)\n",
      "  if cb.is_numlike(alpha):\n"
     ]
    },
    {
     "data": {
      "image/png": "[encoded data removed]",
      "text/plain": [
       "<Figure size 432x288 with 1 Axes>"
      ]
     },
     "metadata": {},
     "output_type": "display_data"
    }
   ],
   "source": [
    "import networkx as nx\n",
    "import matplotlib.pyplot as plt\n",
    "graph = {'A': {'B', 'C'},\n",
    "         'B': {'A', 'D'},\n",
    "         'C': {'A', 'E', 'F'},\n",
    "         'D': {'B', 'G'},\n",
    "         'E': {'C', 'G'},\n",
    "         'F': {'C'},\n",
    "         'G': {'D', 'E', 'H'},\n",
    "         'H': {'G'}}\n",
    "\n",
    "G=nx.Graph(graph)\n",
    "plt.figure()\n",
    "nx.draw(G, with_labels=True)\n",
    "plt.show()"
   ]
  },
  {
   "cell_type": "code",
   "execution_count": 116,
   "metadata": {
    "collapsed": false,
    "jupyter": {
     "outputs_hidden": false
    },
    "pycharm": {
     "is_executing": false,
     "name": "#%%\n"
    }
   },
   "outputs": [
    {
     "name": "stdout",
     "output_type": "stream",
     "text": [
      "A\n",
      "C\n",
      "F\n",
      "E\n",
      "G\n",
      "H\n",
      "D\n",
      "B\n",
      "B\n",
      "D\n",
      "G\n",
      "E\n",
      "C\n",
      "F\n",
      "H\n",
      "C\n"
     ]
    },
    {
     "data": {
      "text/plain": [
       "{'A', 'B', 'C', 'D', 'E', 'F', 'G', 'H'}"
      ]
     },
     "execution_count": 116,
     "metadata": {},
     "output_type": "execute_result"
    }
   ],
   "source": [
    "def dfs_iterative(graph, start):\n",
    "    visited, stack = set(), [start]\n",
    "    while stack:\n",
    "        vertex = stack.pop()\n",
    "        if vertex not in visited:\n",
    "            visited.add(vertex)\n",
    "            print(vertex)\n",
    "            stack.extend(graph[vertex] - visited)\n",
    "            # print(stack)\n",
    "    return visited\n",
    "\n",
    "def dfs_recursive(graph, start, visited=None):\n",
    "    if visited is None:\n",
    "        visited = set()\n",
    "    visited.add(start)\n",
    "    for next_node in graph[start] - visited:\n",
    "        dfs_recursive(graph, next_node, visited)   \n",
    "    return visited\n",
    "\n",
    "dfs_iterative(graph, 'A')\n",
    "dfs_recursive(graph, 'A')"
   ]
  },
  {
   "cell_type": "code",
   "execution_count": 102,
   "metadata": {
    "collapsed": false,
    "jupyter": {
     "outputs_hidden": false
    },
    "pycharm": {
     "is_executing": false,
     "name": "#%%\n"
    }
   },
   "outputs": [
    {
     "name": "stdout",
     "output_type": "stream",
     "text": [
      "['B', 'D', 'G', 'E']\n"
     ]
    },
    {
     "data": {
      "text/plain": [
       "['B', 'A', 'C', 'E']"
      ]
     },
     "execution_count": 102,
     "metadata": {},
     "output_type": "execute_result"
    }
   ],
   "source": [
    "def dfs_iterative_path(graph, start, goal):\n",
    "    stack = [(start, [start])]\n",
    "    while stack:\n",
    "        (vertex, path) = stack.pop()\n",
    "        for next_node in graph[start] - set(path):\n",
    "            if next_node == goal:\n",
    "                print(path + [next_node])\n",
    "                return path + [next_node]\n",
    "            else:\n",
    "                stack.append((next_node, path + [next_node]))    \n",
    "                start = next_node\n",
    "    print(stack)                \n",
    "    \n",
    "def dfs_recursive_path(graph, start, goal, path=None):\n",
    "    if path is None:\n",
    "        path = [start]\n",
    "    if start == goal:\n",
    "        return path\n",
    "    for next_node in graph[start] - set(path):\n",
    "        return dfs_recursive_path(graph, next_node, goal, path + [next_node])\n",
    "                \n",
    "dfs_iterative_path(graph, 'B', 'E')    \n",
    "dfs_recursive_path(graph, 'B', 'E')"
   ]
  },
  {
   "cell_type": "code",
   "execution_count": 13,
   "metadata": {
    "collapsed": false,
    "jupyter": {
     "outputs_hidden": false
    },
    "pycharm": {
     "is_executing": false,
     "name": "#%%\n"
    }
   },
   "outputs": [
    {
     "name": "stdout",
     "output_type": "stream",
     "text": [
      "A\n",
      "C\n",
      "B\n",
      "E\n",
      "F\n",
      "D\n",
      "G\n",
      "H\n",
      " \n"
     ]
    },
    {
     "data": {
      "text/plain": [
       "{'A', 'B', 'C', 'D', 'E', 'F', 'G', 'H'}"
      ]
     },
     "execution_count": 13,
     "metadata": {},
     "output_type": "execute_result"
    }
   ],
   "source": [
    "def bfs(graph, start):\n",
    "    visited, queue = set(), [start]\n",
    "    while queue:\n",
    "        vertex = queue.pop(0)\n",
    "        if vertex not in visited:\n",
    "            print(vertex)\n",
    "            visited.add(vertex)\n",
    "            queue.extend(graph[vertex] - visited)\n",
    "    return visited\n",
    "\n",
    "def bfs_recursive(graph, start, visited=None):\n",
    "    if visited is None:\n",
    "        visited = set()\n",
    "    visited.add(start)\n",
    "    for next_node in reversed(list(graph[start] - visited)):\n",
    "        bfs_recursive(graph, next_node, visited)   \n",
    "    return visited\n",
    "\n",
    "def bfs_paths(graph, start, goal):\n",
    "    queue = [(start, [start])]\n",
    "    while queue:\n",
    "        (vertex, path) = queue.pop(0)\n",
    "        for next_node in graph[vertex] - set(path):\n",
    "            if next_node == goal:\n",
    "                return path + [next_node]\n",
    "            else:\n",
    "                queue.append((next_node, path + [next_node]))\n",
    "    return queue\n",
    "\n",
    "bfs(graph, 'A')\n",
    "print(\" \")\n",
    "bfs_recursive(graph, 'A')\n",
    "# dfs_iterative(graph, 'A')\n",
    "# print(\" \")\n",
    "# dfs_recursive(graph, 'A')\n",
    "# bfs_paths(graph, 'B', 'E')"
   ]
  }
 ],
 "metadata": {
  "kernelspec": {
   "display_name": "Python 3",
   "language": "python",
   "name": "python3"
  },
  "language_info": {
   "codemirror_mode": {
    "name": "ipython",
    "version": 3
   },
   "file_extension": ".py",
   "mimetype": "text/x-python",
   "name": "python",
   "nbconvert_exporter": "python",
   "pygments_lexer": "ipython3",
   "version": "3.6.7"
  },
  "pycharm": {
   "stem_cell": {
    "cell_type": "raw",
    "metadata": {
     "collapsed": false
    },
    "source": []
   }
  }
 },
 "nbformat": 4,
 "nbformat_minor": 4
}
