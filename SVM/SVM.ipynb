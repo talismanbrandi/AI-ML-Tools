{
 "cells": [
  {
   "cell_type": "code",
   "execution_count": 125,
   "metadata": {
    "collapsed": true,
    "pycharm": {
     "is_executing": false,
     "name": "#%% Import data and clean it keeping only the first two categories\n"
    }
   },
   "outputs": [],
   "source": [
    "import pandas as pd\n",
    "import matplotlib.pyplot as plt\n",
    "from sklearn.utils import shuffle\n",
    "from sklearn.model_selection import train_test_split\n",
    "from sklearn.metrics import accuracy_score\n",
    "from sklearn.svm import SVC\n",
    "import numpy as np\n",
    "\n",
    "df = pd.read_csv('Iris.csv')\n",
    "df = df.drop(['Id'], axis=1)\n",
    "\n",
    "rows = list(range(100,150))\n",
    "df = df.drop(df.index[rows])\n",
    "df = df.drop(['SepalWidthCm', 'PetalWidthCm'], axis=1)\n",
    "df = df.drop(['Species'], axis=1)"
   ]
  },
  {
   "cell_type": "code",
   "execution_count": 126,
   "outputs": [
    {
     "data": {
      "text/plain": "<Figure size 432x288 with 1 Axes>",
      "image/png": "[encoded data removed]"
     },
     "metadata": {
      "needs_background": "light"
     },
     "output_type": "display_data"
    }
   ],
   "source": [
    "x = df['SepalLengthCm']\n",
    "y = df['PetalLengthCm']\n",
    "\n",
    "setosa_x = x[:50]\n",
    "setosa_y = y[:50]\n",
    "\n",
    "versicolor_x = x[50:]\n",
    "versicolor_y = y[50:]\n",
    "\n",
    "plt.figure()\n",
    "plt.scatter(setosa_x, setosa_y, marker='+', color='green')\n",
    "plt.scatter(versicolor_x, versicolor_y, marker='_', color='red')\n",
    "plt.show()"
   ],
   "metadata": {
    "collapsed": false,
    "pycharm": {
     "name": "#%% plot the data\n",
     "is_executing": false
    }
   }
  },
  {
   "cell_type": "code",
   "execution_count": 132,
   "outputs": [],
   "source": [
    "# Since the first 50 are of one kind and the other 50 of the other\n",
    "Y = [-1]*50 + [1]*50\n",
    "X = df.values.tolist()\n",
    "X, Y = shuffle(X, Y)\n",
    "\n",
    "x_train, x_test, y_train, y_test = train_test_split(X, Y, train_size=0.8)\n",
    "\n",
    "x_train = np.array(x_train)\n",
    "x_test = np.array(x_test)\n",
    "y_train = np.array(y_train)\n",
    "y_test = np.array(y_test)\n",
    "\n",
    "y_train = y_train.reshape(80,1)\n",
    "y_test = y_test.reshape(20,1)"
   ],
   "metadata": {
    "collapsed": false,
    "pycharm": {
     "name": "#%%\n",
     "is_executing": false
    }
   }
  },
  {
   "cell_type": "code",
   "execution_count": 128,
   "outputs": [
    {
     "name": "stdout",
     "text": [
      "done\n"
     ],
     "output_type": "stream"
    }
   ],
   "source": [
    "train_f1 = (x_train[:,0]).reshape(90,1)\n",
    "train_f2 = (x_train[:,1]).reshape(90,1)\n",
    "\n",
    "w1 = np.zeros((90,1))\n",
    "w2 = np.zeros((90,1))\n",
    "\n",
    "epochs = 1\n",
    "alpha = 0.0001\n",
    "while (epochs < 1000):\n",
    "    y = w1 * train_f1 + w2 * train_f2\n",
    "    prod =  y * y_train\n",
    "    \n",
    "    index = 0\n",
    "    for val in prod:\n",
    "        if val >= 1:\n",
    "            cost = 0\n",
    "            w1 = w1 - alpha * (2 * 1/epochs * w1)\n",
    "            w2 = w2 - alpha * (2 * 1/epochs * w2)\n",
    "        else:\n",
    "            cost = 1 - val\n",
    "            w1 = w1 + alpha * (train_f1[index] * y_train[index] - 2 * 1/epochs * w1)\n",
    "            w2 = w2 + alpha * (train_f2[index] * y_train[index] - 2 * 1/epochs * w1)\n",
    "        index += 1\n",
    "    epochs += 1\n",
    "print(\"done\")"
   ],
   "metadata": {
    "collapsed": false,
    "pycharm": {
     "name": "#%% The SVM\n",
     "is_executing": false
    }
   }
  },
  {
   "cell_type": "code",
   "execution_count": 129,
   "outputs": [],
   "source": [
    "idx = list(range(10,90))\n",
    "\n",
    "w1 = np.delete(w1, idx)\n",
    "w2 = np.delete(w2, idx)\n",
    "\n",
    "w1 = w1.reshape(10,1)\n",
    "w2 = w2.reshape(10,1)\n",
    "\n",
    "test_f1 = (x_test[:,0]).reshape(10,1)\n",
    "test_f2 = (x_test[:,1]).reshape(10,1)\n",
    "\n",
    "y_pred = w1 * test_f1 + w2 * test_f2\n",
    "predictions = []\n",
    "for val in y_pred:\n",
    "    if(val > 1):\n",
    "        predictions.append(1)\n",
    "    else:\n",
    "        predictions.append(-1)\n",
    "        \n",
    "# print(accuracy_score(y_pred, predictions))"
   ],
   "metadata": {
    "collapsed": false,
    "pycharm": {
     "name": "#%%\n",
     "is_executing": false
    }
   }
  },
  {
   "cell_type": "code",
   "execution_count": 130,
   "outputs": [
    {
     "name": "stdout",
     "text": [
      "1.0\n"
     ],
     "output_type": "stream"
    }
   ],
   "source": [
    "print(accuracy_score(y_test, predictions))"
   ],
   "metadata": {
    "collapsed": false,
    "pycharm": {
     "name": "#%%\n",
     "is_executing": false
    }
   }
  },
  {
   "cell_type": "code",
   "execution_count": 142,
   "outputs": [
    {
     "name": "stdout",
     "text": [
      "1.0\n"
     ],
     "output_type": "stream"
    },
    {
     "name": "stderr",
     "text": [
      "/Users/ayanpaul/Library/Python/3.6/lib/python/site-packages/sklearn/utils/validation.py:760: DataConversionWarning: A column-vector y was passed when a 1d array was expected. Please change the shape of y to (n_samples, ), for example using ravel().\n  y = column_or_1d(y, warn=True)\n"
     ],
     "output_type": "stream"
    }
   ],
   "source": [
    "clf = SVC()\n",
    "clf.fit(x_train, y_train)\n",
    "y_pred = clf.predict(x_test)\n",
    "\n",
    "print(clf.score(x_test, y_test))"
   ],
   "metadata": {
    "collapsed": false,
    "pycharm": {
     "name": "#%% sklearn SVM\n",
     "is_executing": false
    }
   }
  }
 ],
 "metadata": {
  "kernelspec": {
   "name": "python3",
   "language": "python",
   "display_name": "Python 3"
  },
  "language_info": {
   "codemirror_mode": {
    "name": "ipython",
    "version": 2
   },
   "file_extension": ".py",
   "mimetype": "text/x-python",
   "name": "python",
   "nbconvert_exporter": "python",
   "pygments_lexer": "ipython2",
   "version": "2.7.6"
  },
  "pycharm": {
   "stem_cell": {
    "cell_type": "raw",
    "source": [],
    "metadata": {
     "collapsed": false
    }
   }
  }
 },
 "nbformat": 4,
 "nbformat_minor": 0
}